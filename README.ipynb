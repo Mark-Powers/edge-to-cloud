{
 "cells": [
  {
   "cell_type": "markdown",
   "id": "f0b81691-b218-4c8e-b539-26c50f8eedda",
   "metadata": {},
   "source": [
    "# Edge to Cloud Hello world\n",
    "\n",
    "This notebook is intended to contain the skeleton of an experiment running from Edge to Cloud.\n",
    "\n",
    "## Usage\n",
    "\n",
    "Open the `Experiment.ipynb` file to begin the experiment. \n",
    "\n",
    "## Files \n",
    "The files included in this experiment are described here.\n",
    "\n",
    "- `README.ipynb` - This file, which describes in detail the layout of this artifact.\n",
    "- `Experiment.ipynb` - Runs through the experiment, including analysis.\n",
    "- `cloud_worker.sh` - Installs and sets up required software on the cloud. Namely, this installs an MQTT broker, Python ML libraries, and configures a systemd service which runs everything in the background.\n",
    "- `mosquitto.conf` - The MQTT server configuration file.\n",
    "- `predict_loop.py` - The program which gets messages from the MQTT broker, and runs ML prediction on them\n",
    "- `edge_cloud.service` - The systemd service that runs `predict_loop.py` in the background.\n",
    "- `edge_worker.sh` - The edge program, which installs and configurations an MQTT client, and then periodically sends data to the cloud MQTT broker."
   ]
  }
 ],
 "metadata": {
  "kernelspec": {
   "display_name": "Python 3 (ipykernel)",
   "language": "python",
   "name": "python3"
  },
  "language_info": {
   "codemirror_mode": {
    "name": "ipython",
    "version": 3
   },
   "file_extension": ".py",
   "mimetype": "text/x-python",
   "name": "python",
   "nbconvert_exporter": "python",
   "pygments_lexer": "ipython3",
   "version": "3.9.7"
  }
 },
 "nbformat": 4,
 "nbformat_minor": 5
}

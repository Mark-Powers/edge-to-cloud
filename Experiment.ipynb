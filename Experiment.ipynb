{
 "cells": [
  {
   "cell_type": "markdown",
   "id": "da70f4df-bf31-47d3-8b82-fb765dc40303",
   "metadata": {
    "jp-MarkdownHeadingCollapsed": true,
    "tags": []
   },
   "source": [
    "# Edge to Cloud Hello world\n",
    "\n",
    "This notebook is intended to contain the skeleton of an experiment running from Edge to Cloud. The main parts of this are:\n",
    "\n",
    "## Cloud worker\n",
    "1. Leases a node and launches and deploys an instance on it\n",
    "2. Installs required software, and configures an MQTT broker.\n",
    "3. Runs a service, which subscribes to the broker and passes in messages to an ML model.\n",
    "\n",
    "## Edge worker\n",
    "1. Leases a device and launches a container on it.\n",
    "2. Runs a container command which gets data, preprocesses and checks it, and passes to the MQTT broker.\n",
    "\n",
    "## Analysis\n",
    "1. Periodically download results from the cloud and plot them.\n",
    "\n",
    "First, we start by establishing which sites we want to use. Here, we use CHI@UC, and also the only Edge site. You could also use `CHI@TACC`. Other bare metal sites will work as well, provided that you update the node type based on what is supported at that site.\n",
    "\n",
    "**Enter your project ID** before you continue."
   ]
  },
  {
   "cell_type": "code",
   "execution_count": null,
   "id": "a4747457-8f8d-40d1-af41-0c8a23b7d2d5",
   "metadata": {},
   "outputs": [],
   "source": [
    "CLOUD_SITE = \"CHI@UC\"\n",
    "EDGE_SITE = \"CHI@Edge\"\n",
    "# Please enter your project ID!\n",
    "PROJECT_ID = \"Chameleon\"\n",
    "\n",
    "import chi\n",
    "chi.set(\"project_name\", PROJECT_ID)"
   ]
  },
  {
   "cell_type": "markdown",
   "id": "870e6174-b5e0-45dd-95c2-016441ca4dd4",
   "metadata": {},
   "source": [
    "# Cloud site\n",
    "\n",
    "First, we will set up the cloud node."
   ]
  },
  {
   "cell_type": "code",
   "execution_count": null,
   "id": "ad8a95dd-0198-4fd2-957e-19bef5676688",
   "metadata": {},
   "outputs": [],
   "source": [
    "chi.use_site(CLOUD_SITE)\n",
    "\n",
    "from chi import lease\n",
    "from chi import server\n",
    "import os\n",
    "import keystoneauth1, blazarclient"
   ]
  },
  {
   "cell_type": "markdown",
   "id": "d764be60-9333-47af-91d6-0bad91a622cf",
   "metadata": {},
   "source": [
    "Now, we will reserve a node. You may want to change the `lease_node_type`, as your experiment might require a GPU or a different type of node. If this fails, check the [node calendar](https://chi.uc.chameleoncloud.org/project/leases/calendar/host/) to see what nodes are available."
   ]
  },
  {
   "cell_type": "code",
   "execution_count": null,
   "id": "e56476f7-181f-4112-ace0-68bb6c1ef904",
   "metadata": {},
   "outputs": [],
   "source": [
    "lease_node_type = \"compute_cascadelake_r\"\n",
    "\n",
    "reservations = []\n",
    "try:\n",
    "    print(\"Creating lease...\")\n",
    "    lease.add_fip_reservation(reservations, count=1)\n",
    "    lease.add_node_reservation(reservations, node_type=lease_node_type, count=1)\n",
    "\n",
    "    start_date, end_date = lease.lease_duration(days=1)\n",
    "\n",
    "    l = lease.create_lease(\n",
    "        f\"cloud-{lease_node_type}-{start_date}\", \n",
    "        reservations, \n",
    "        start_date=start_date, \n",
    "        end_date=end_date\n",
    "    )\n",
    "    cloud_lease_id = l[\"id\"]\n",
    "\n",
    "    print(\"Waiting for lease to start ...\")\n",
    "    lease.wait_for_active(cloud_lease_id)\n",
    "    print(\"Lease is now active!\")\n",
    "except keystoneauth1.exceptions.http.Unauthorized as e:\n",
    "    print(\"Unauthorized.\\nDid set your project name and and run the code in the first cell?\")\n",
    "except blazarclient.exception.BlazarClientException as e:\n",
    "    print(f\"There is an issue making the reservation. Check the calendar to make sure a {lease_node_type} node is available.\")\n",
    "    print(\"https://chi.uc.chameleoncloud.org/project/leases/calendar/host/\")\n",
    "    print(e)\n",
    "except Exception as e:\n",
    "    print(\"An unexpected error happened.\")\n",
    "    print(e)"
   ]
  },
  {
   "cell_type": "markdown",
   "id": "5fed746a-4924-4456-bb11-5f44b0e81b75",
   "metadata": {},
   "source": [
    "Now, launch an instance on the server. This part may take several minutes. Here, we use a general purpose Ubuntu image. If you want to use Cuda, you can change this to our Cuda appliance. See [this page](https://chameleoncloud.org/appliances/) describing the images we provide. If you would rather use a custom image, see our [documentation](https://chameleoncloud.readthedocs.io/en/latest/technical/images.html) describing how to set one up."
   ]
  },
  {
   "cell_type": "code",
   "execution_count": null,
   "id": "73d9404d-096c-4df0-9b02-5c90d7ad5631",
   "metadata": {},
   "outputs": [],
   "source": [
    "s = server.create_server(\n",
    "    f\"cloud-{lease_node_type}-{start_date}\", \n",
    "    image_name=\"CC-Ubuntu20.04\",\n",
    "    reservation_id=lease.get_node_reservation(cloud_lease_id)\n",
    ")\n",
    "\n",
    "print(\"Waiting for server to start ...\")\n",
    "server.wait_for_active(s.id)\n",
    "print(\"Done\")"
   ]
  },
  {
   "cell_type": "markdown",
   "id": "0291b149-36cf-4ea9-a03b-f581cb2d7368",
   "metadata": {},
   "source": [
    "After the server has started, attach a floating IP to it."
   ]
  },
  {
   "cell_type": "code",
   "execution_count": null,
   "id": "453fa9f6-bbd7-4fe8-8448-349d735e0860",
   "metadata": {},
   "outputs": [],
   "source": [
    "floating_ip = lease.get_reserved_floating_ips(cloud_lease_id)[0]\n",
    "server.associate_floating_ip(s.id, floating_ip_address=floating_ip)\n",
    "\n",
    "print(f\"Waiting for SSH connectivity on {floating_ip} ...\")\n",
    "server.wait_for_tcp(floating_ip, 22)\n",
    "print(\"SSH successful\")"
   ]
  },
  {
   "cell_type": "markdown",
   "id": "cb122b2b-5051-4fc4-aa07-fbb887db85dc",
   "metadata": {},
   "source": [
    "Now, we will configure the cloud worker by uploading configuration files, and then running a script. If you are "
   ]
  },
  {
   "cell_type": "code",
   "execution_count": null,
   "id": "3601e70d-7dc7-4eaf-9300-dbc70246f146",
   "metadata": {},
   "outputs": [],
   "source": [
    "# Run the worker on the cloud\n",
    "from chi import ssh\n",
    "\n",
    "with ssh.Remote(floating_ip) as conn:\n",
    "    # The MQTT broker configuration\n",
    "    conn.put(\"mosquitto.conf\")\n",
    "    # The python program used for ML inference, that loops waiting for new input data.\n",
    "    conn.put(\"predict_loop.py\")\n",
    "    # The systemd service which runs `predict_loop.py` in the background\n",
    "    conn.put(\"edge_cloud.service\")\n",
    "    # The script to setup needed components and enable the service\n",
    "    conn.put(\"cloud_worker.sh\")\n",
    "    conn.run(\"bash cloud_worker.sh\")\n",
    "print(\"Configuration complete\")"
   ]
  },
  {
   "cell_type": "markdown",
   "id": "e34af3e9-f06f-45a3-9665-7c69b5bc7a7e",
   "metadata": {},
   "source": [
    "Now the cloud configuration is complete. "
   ]
  },
  {
   "cell_type": "markdown",
   "id": "13ec10af-2ddb-4dcb-a6c7-ef984f7f85a6",
   "metadata": {},
   "source": [
    "## Edge Worker\n",
    "\n",
    "First, we must switched to the edge site."
   ]
  },
  {
   "cell_type": "code",
   "execution_count": null,
   "id": "6c4956f5-4e03-4d2e-84d5-8a54555c5d47",
   "metadata": {},
   "outputs": [],
   "source": [
    "chi.use_site(EDGE_SITE)\n",
    "\n",
    "from chi import container"
   ]
  },
  {
   "cell_type": "markdown",
   "id": "1da42c6a-3f8e-4b63-9d66-47b9faabe7fc",
   "metadata": {},
   "source": [
    "Next, we lease a device by name. Check the [device calendar](https://chi.edge.chameleoncloud.org/project/leases/calendar/device/) to see when each device is available, and change the name as needed."
   ]
  },
  {
   "cell_type": "code",
   "execution_count": null,
   "id": "a5275a31-fe51-4f65-9b87-440132ea8771",
   "metadata": {},
   "outputs": [],
   "source": [
    "# Create and wait for a lease\n",
    "device_name = \"iot-rpi4-03\"\n",
    "start, end = lease.lease_duration(days=1)\n",
    "reservations = []\n",
    "lease.add_device_reservation(reservations, count=1, device_name=device_name)\n",
    "container_lease = lease.create_lease(f\"edge-{device_name}-{start}\", reservations)\n",
    "edge_lease_id = container_lease[\"id\"]\n",
    "\n",
    "print(\"Waiting for lease to start ...\")\n",
    "lease.wait_for_active(edge_lease_id)\n",
    "print(\"Done!\")"
   ]
  },
  {
   "cell_type": "markdown",
   "id": "bb14810f-023f-4f87-b854-79ae684fd04f",
   "metadata": {},
   "source": [
    "And then we launch a container. To keep this experiment generic, here we just use the default ubuntu container, and run a script to set up everything. Look at `edge_worker.sh` for more details about how to configure the edge device further.\n",
    "\n",
    "For your own experiment, you could build and publish a custom image to Docker Hub. With a custom image, it may be easiest to pass in needed configuration values via the `environment` keyword argument to `create_container` as described [here](https://python-chi.readthedocs.io/en/latest/modules/container.html#chi.container.create_container)."
   ]
  },
  {
   "cell_type": "code",
   "execution_count": null,
   "id": "d1b5cae4-c0ea-4e7b-b459-44212db70a43",
   "metadata": {},
   "outputs": [],
   "source": [
    "with open(\"edge_worker.sh\", \"rb\") as worker:\n",
    "    mqtt_server = container.create_container(f\"edge-worker\", \n",
    "         image=\"arm64v8/ubuntu\", \n",
    "         mounts=[{\n",
    "                 \"type\": \"bind\", \n",
    "                 \"source\": worker.read(), \n",
    "                 \"destination\": \"/edge_worker.sh\"\n",
    "             }\n",
    "         ],\n",
    "         command=[\"bash\", \"/edge_worker.sh\", \"edge_data\", 100, floating_ip],\n",
    "         reservation_id=lease.get_device_reservation(edge_lease_id),\n",
    "         platform_version=2,\n",
    "         interactive=True)\n",
    "    print(\"Done!\")"
   ]
  },
  {
   "cell_type": "markdown",
   "id": "0d516008-adf3-47d0-8d53-83647552c671",
   "metadata": {},
   "source": [
    "Now we have a cloud server listening for incoming data, and an edge container sending data to it.\n",
    "\n",
    "# Analysis\n",
    "\n",
    "To analyze the data, we periodically download the results file. In this example, our results contains one prediction per line, where entries on the line are predicted classes. This is displayed as a histogram, showcasing how many times each class is seen in the data. My results show the most common identified objects are cow, bird, horse, sheep, zebra, and elephant. These results make sense, since the data comes from Serengeti pictures, and in particular pictures of mammals."
   ]
  },
  {
   "cell_type": "code",
   "execution_count": null,
   "id": "17937524-5701-498d-a64b-71077552c851",
   "metadata": {},
   "outputs": [],
   "source": [
    "from time import sleep\n",
    "from collections import defaultdict\n",
    "\n",
    "from IPython import display\n",
    "import matplotlib.pyplot as plt\n",
    "\n",
    "%matplotlib inline\n",
    "plt.rcParams['figure.figsize'] = (10, 10)\n",
    "\n",
    "with ssh.Remote(floating_ip) as conn:\n",
    "    while True:\n",
    "        # Download the results file and parse it into a dictionary\n",
    "        conn.get(\"out.csv\")\n",
    "        data = defaultdict(int)\n",
    "        with open(\"out.csv\") as f:\n",
    "            for line in f.readlines():\n",
    "                line_categories = set(line.split(\",\"))\n",
    "                for line_category in [lc.strip() for lc in line_categories if lc.strip()]:\n",
    "                    data[line_category] += 1\n",
    "        sorted_data = sorted(data.items(), key=lambda x: x[1], reverse=False)\n",
    "        categories = [i[0] for i in sorted_data]\n",
    "        counts = [i[1] for i in sorted_data]\n",
    "        \n",
    "        # Display a plot of the data\n",
    "        display.clear_output(wait=True)\n",
    "        plt.barh(categories, counts)\n",
    "        plt.xlabel(\"Count\") \n",
    "        plt.ylabel(\"Class\") \n",
    "        plt.title(\"Classes appearing in edge data\")\n",
    "        plt.show()\n",
    "        \n",
    "        # Wait a few seconds before downloading the data again.\n",
    "        sleep(5)"
   ]
  }
 ],
 "metadata": {
  "kernelspec": {
   "display_name": "Python 3 (ipykernel)",
   "language": "python",
   "name": "python3"
  },
  "language_info": {
   "codemirror_mode": {
    "name": "ipython",
    "version": 3
   },
   "file_extension": ".py",
   "mimetype": "text/x-python",
   "name": "python",
   "nbconvert_exporter": "python",
   "pygments_lexer": "ipython3",
   "version": "3.9.7"
  }
 },
 "nbformat": 4,
 "nbformat_minor": 5
}
